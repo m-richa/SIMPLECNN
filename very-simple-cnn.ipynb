{
 "cells": [
  {
   "cell_type": "code",
   "execution_count": 1,
   "id": "waiting-cover",
   "metadata": {
    "_cell_guid": "b1076dfc-b9ad-4769-8c92-a6c4dae69d19",
    "_uuid": "8f2839f25d086af736a60e9eeb907d3b93b6e0e5",
    "execution": {
     "iopub.execute_input": "2021-05-14T09:47:20.896624Z",
     "iopub.status.busy": "2021-05-14T09:47:20.894950Z",
     "iopub.status.idle": "2021-05-14T09:47:20.905025Z",
     "shell.execute_reply": "2021-05-14T09:47:20.904420Z"
    },
    "papermill": {
     "duration": 0.02639,
     "end_time": "2021-05-14T09:47:20.905183",
     "exception": false,
     "start_time": "2021-05-14T09:47:20.878793",
     "status": "completed"
    },
    "tags": []
   },
   "outputs": [],
   "source": [
    "# This Python 3 environment comes with many helpful analytics libraries installed\n",
    "# It is defined by the kaggle/python Docker image: https://github.com/kaggle/docker-python\n",
    "# For example, here's several helpful packages to load\n",
    "\n",
    "import numpy as np # linear algebra\n",
    "import pandas as pd # data processing, CSV file I/O (e.g. pd.read_csv)\n",
    "\n",
    "# Input data files are available in the read-only \"../input/\" directory\n",
    "# For example, running this (by clicking run or pressing Shift+Enter) will list all files under the input directory\n",
    "\n",
    "import os\n",
    "for dirname, _, filenames in os.walk('/kaggle/input'):\n",
    "    for filename in filenames:\n",
    "        print(os.path.join(dirname, filename))\n",
    "\n",
    "# You can write up to 20GB to the current directory (/kaggle/working/) that gets preserved as output when you create a version using \"Save & Run All\" \n",
    "# You can also write temporary files to /kaggle/temp/, but they won't be saved outside of the current session"
   ]
  },
  {
   "cell_type": "code",
   "execution_count": 2,
   "id": "native-fence",
   "metadata": {
    "execution": {
     "iopub.execute_input": "2021-05-14T09:47:20.929787Z",
     "iopub.status.busy": "2021-05-14T09:47:20.929265Z",
     "iopub.status.idle": "2021-05-14T09:47:25.951492Z",
     "shell.execute_reply": "2021-05-14T09:47:25.950957Z"
    },
    "papermill": {
     "duration": 5.035078,
     "end_time": "2021-05-14T09:47:25.951625",
     "exception": false,
     "start_time": "2021-05-14T09:47:20.916547",
     "status": "completed"
    },
    "tags": []
   },
   "outputs": [],
   "source": [
    "import matplotlib.pyplot as plt\n",
    "import tensorflow as tf"
   ]
  },
  {
   "cell_type": "code",
   "execution_count": 3,
   "id": "narrative-proposal",
   "metadata": {
    "execution": {
     "iopub.execute_input": "2021-05-14T09:47:25.978017Z",
     "iopub.status.busy": "2021-05-14T09:47:25.977504Z",
     "iopub.status.idle": "2021-05-14T09:47:26.731135Z",
     "shell.execute_reply": "2021-05-14T09:47:26.730500Z"
    },
    "papermill": {
     "duration": 0.769098,
     "end_time": "2021-05-14T09:47:26.731280",
     "exception": false,
     "start_time": "2021-05-14T09:47:25.962182",
     "status": "completed"
    },
    "tags": []
   },
   "outputs": [
    {
     "name": "stdout",
     "output_type": "stream",
     "text": [
      "Downloading data from https://storage.googleapis.com/tensorflow/tf-keras-datasets/mnist.npz\n",
      "11493376/11490434 [==============================] - 0s 0us/step\n"
     ]
    }
   ],
   "source": [
    "(x_train, y_train), (x_test, y_test) = tf.keras.datasets.mnist.load_data()"
   ]
  },
  {
   "cell_type": "code",
   "execution_count": 4,
   "id": "organic-danger",
   "metadata": {
    "execution": {
     "iopub.execute_input": "2021-05-14T09:47:26.762740Z",
     "iopub.status.busy": "2021-05-14T09:47:26.761946Z",
     "iopub.status.idle": "2021-05-14T09:47:26.767798Z",
     "shell.execute_reply": "2021-05-14T09:47:26.767370Z"
    },
    "papermill": {
     "duration": 0.023756,
     "end_time": "2021-05-14T09:47:26.767907",
     "exception": false,
     "start_time": "2021-05-14T09:47:26.744151",
     "status": "completed"
    },
    "tags": []
   },
   "outputs": [
    {
     "data": {
      "text/plain": [
       "(10000, 28, 28, 1)"
      ]
     },
     "execution_count": 4,
     "metadata": {},
     "output_type": "execute_result"
    }
   ],
   "source": [
    "x_train = x_train.reshape(-1,28,28,1)\n",
    "x_test = x_test.reshape(-1,28,28,1)\n",
    "\n",
    "x_train.shape\n",
    "x_test.shape"
   ]
  },
  {
   "cell_type": "code",
   "execution_count": 5,
   "id": "damaged-rates",
   "metadata": {
    "execution": {
     "iopub.execute_input": "2021-05-14T09:47:26.795511Z",
     "iopub.status.busy": "2021-05-14T09:47:26.794610Z",
     "iopub.status.idle": "2021-05-14T09:47:26.861355Z",
     "shell.execute_reply": "2021-05-14T09:47:26.860878Z"
    },
    "papermill": {
     "duration": 0.082325,
     "end_time": "2021-05-14T09:47:26.861489",
     "exception": false,
     "start_time": "2021-05-14T09:47:26.779164",
     "status": "completed"
    },
    "tags": []
   },
   "outputs": [],
   "source": [
    "x_train = np.pad(x_train, ((0,0),(2,2),(2,2),(0,0)), 'constant')\n",
    "x_test = np.pad(x_test, ((0,0),(2,2),(2,2),(0,0)), 'constant')"
   ]
  },
  {
   "cell_type": "code",
   "execution_count": 6,
   "id": "assured-graph",
   "metadata": {
    "execution": {
     "iopub.execute_input": "2021-05-14T09:47:26.895462Z",
     "iopub.status.busy": "2021-05-14T09:47:26.894722Z",
     "iopub.status.idle": "2021-05-14T09:47:26.897449Z",
     "shell.execute_reply": "2021-05-14T09:47:26.897024Z"
    },
    "papermill": {
     "duration": 0.018776,
     "end_time": "2021-05-14T09:47:26.897557",
     "exception": false,
     "start_time": "2021-05-14T09:47:26.878781",
     "status": "completed"
    },
    "tags": []
   },
   "outputs": [],
   "source": [
    "img_w = x_train[0].shape[0]\n",
    "img_h = x_test[0].shape[1]\n",
    "num_channels = 1\n",
    "seed = 98\n",
    "\n",
    "np.random.seed(seed)\n",
    "tf.random.set_seed(seed)"
   ]
  },
  {
   "cell_type": "code",
   "execution_count": 7,
   "id": "commercial-tunisia",
   "metadata": {
    "execution": {
     "iopub.execute_input": "2021-05-14T09:47:26.924609Z",
     "iopub.status.busy": "2021-05-14T09:47:26.923491Z",
     "iopub.status.idle": "2021-05-14T09:47:27.103313Z",
     "shell.execute_reply": "2021-05-14T09:47:27.102837Z"
    },
    "papermill": {
     "duration": 0.194276,
     "end_time": "2021-05-14T09:47:27.103446",
     "exception": false,
     "start_time": "2021-05-14T09:47:26.909170",
     "status": "completed"
    },
    "tags": []
   },
   "outputs": [],
   "source": [
    "x_train = x_train/255\n",
    "x_test = x_test/255"
   ]
  },
  {
   "cell_type": "code",
   "execution_count": 8,
   "id": "personal-administrator",
   "metadata": {
    "execution": {
     "iopub.execute_input": "2021-05-14T09:47:27.130860Z",
     "iopub.status.busy": "2021-05-14T09:47:27.130359Z",
     "iopub.status.idle": "2021-05-14T09:47:27.133602Z",
     "shell.execute_reply": "2021-05-14T09:47:27.134416Z"
    },
    "papermill": {
     "duration": 0.0192,
     "end_time": "2021-05-14T09:47:27.134543",
     "exception": false,
     "start_time": "2021-05-14T09:47:27.115343",
     "status": "completed"
    },
    "tags": []
   },
   "outputs": [],
   "source": [
    "batch_size = 100\n",
    "eval_size = 500\n",
    "\n",
    "epochs = 300\n",
    "eval_every = 5"
   ]
  },
  {
   "cell_type": "code",
   "execution_count": 9,
   "id": "closing-physics",
   "metadata": {
    "execution": {
     "iopub.execute_input": "2021-05-14T09:47:27.162364Z",
     "iopub.status.busy": "2021-05-14T09:47:27.161743Z",
     "iopub.status.idle": "2021-05-14T09:47:27.174832Z",
     "shell.execute_reply": "2021-05-14T09:47:27.174412Z"
    },
    "papermill": {
     "duration": 0.028461,
     "end_time": "2021-05-14T09:47:27.174932",
     "exception": false,
     "start_time": "2021-05-14T09:47:27.146471",
     "status": "completed"
    },
    "tags": []
   },
   "outputs": [],
   "source": [
    "input_data = tf.keras.Input(dtype=tf.float32, shape=(img_w, img_h, num_channels), name='Input')\n"
   ]
  },
  {
   "cell_type": "code",
   "execution_count": 10,
   "id": "separated-cross",
   "metadata": {
    "execution": {
     "iopub.execute_input": "2021-05-14T09:47:27.212197Z",
     "iopub.status.busy": "2021-05-14T09:47:27.211526Z",
     "iopub.status.idle": "2021-05-14T09:47:29.292305Z",
     "shell.execute_reply": "2021-05-14T09:47:29.291767Z"
    },
    "papermill": {
     "duration": 2.105729,
     "end_time": "2021-05-14T09:47:29.292436",
     "exception": false,
     "start_time": "2021-05-14T09:47:27.186707",
     "status": "completed"
    },
    "tags": []
   },
   "outputs": [],
   "source": [
    "#conv-relu-pooling\n",
    "\n",
    "conv1 = tf.keras.layers.Conv2D(filters = 6,\n",
    "                       kernel_size= 5,\n",
    "                       padding = 'VALID',\n",
    "                       activation = \"relu\",\n",
    "                       name = \"c1\"\n",
    "                      )(input_data)\n",
    "\n",
    "max_pool1 = tf.keras.layers.MaxPool2D(pool_size=2,\n",
    "                                     strides = 2,\n",
    "                                     padding = \"SAME\",\n",
    "                                     name = \"s1\")(conv1)\n",
    "\n",
    "conv2 = tf.keras.layers.Conv2D(filters = 16,\n",
    "                       kernel_size= 5,\n",
    "                       padding = 'VALID',\n",
    "                       strides = 1,        \n",
    "                       activation = \"relu\",\n",
    "                       name = \"c3\"\n",
    "                      )(max_pool1)\n",
    "\n",
    "max_pool2 = tf.keras.layers.MaxPool2D(pool_size=2,\n",
    "                                     strides = 2,\n",
    "                                     padding = \"SAME\",\n",
    "                                     name = \"s4\")(conv2)\n",
    "\n",
    "flatten = tf.keras.layers.Flatten(name=\"FLATTEN\")(max_pool2)\n",
    "\n",
    "fc1 = tf.keras.layers.Dense(units = 120,\n",
    "                           activation = \"relu\",\n",
    "                           name = \"f5\")(flatten)\n",
    "\n",
    "fc2 = tf.keras.layers.Dense(units = 84,\n",
    "                           activation = \"relu\",\n",
    "                           name=\"f6\")(fc1)\n",
    "\n",
    "final_layer = tf.keras.layers.Dense(units = 10,\n",
    "                                   activation = \"softmax\",\n",
    "                                   name = \"output\")(fc2)\n",
    "\n",
    "model = tf.keras.Model(inputs = input_data, outputs = final_layer)"
   ]
  },
  {
   "cell_type": "code",
   "execution_count": 11,
   "id": "mediterranean-violin",
   "metadata": {
    "execution": {
     "iopub.execute_input": "2021-05-14T09:47:29.327650Z",
     "iopub.status.busy": "2021-05-14T09:47:29.326816Z",
     "iopub.status.idle": "2021-05-14T09:47:29.338775Z",
     "shell.execute_reply": "2021-05-14T09:47:29.337768Z"
    },
    "papermill": {
     "duration": 0.033629,
     "end_time": "2021-05-14T09:47:29.338894",
     "exception": false,
     "start_time": "2021-05-14T09:47:29.305265",
     "status": "completed"
    },
    "tags": []
   },
   "outputs": [
    {
     "name": "stdout",
     "output_type": "stream",
     "text": [
      "Model: \"model\"\n",
      "_________________________________________________________________\n",
      "Layer (type)                 Output Shape              Param #   \n",
      "=================================================================\n",
      "Input (InputLayer)           [(None, 32, 32, 1)]       0         \n",
      "_________________________________________________________________\n",
      "c1 (Conv2D)                  (None, 28, 28, 6)         156       \n",
      "_________________________________________________________________\n",
      "s1 (MaxPooling2D)            (None, 14, 14, 6)         0         \n",
      "_________________________________________________________________\n",
      "c3 (Conv2D)                  (None, 10, 10, 16)        2416      \n",
      "_________________________________________________________________\n",
      "s4 (MaxPooling2D)            (None, 5, 5, 16)          0         \n",
      "_________________________________________________________________\n",
      "FLATTEN (Flatten)            (None, 400)               0         \n",
      "_________________________________________________________________\n",
      "f5 (Dense)                   (None, 120)               48120     \n",
      "_________________________________________________________________\n",
      "f6 (Dense)                   (None, 84)                10164     \n",
      "_________________________________________________________________\n",
      "output (Dense)               (None, 10)                850       \n",
      "=================================================================\n",
      "Total params: 61,706\n",
      "Trainable params: 61,706\n",
      "Non-trainable params: 0\n",
      "_________________________________________________________________\n"
     ]
    }
   ],
   "source": [
    "model.compile(\n",
    "    optimizer = \"adam\",\n",
    "    loss = \"sparse_categorical_crossentropy\",\n",
    "    metrics = [\"accuracy\"]\n",
    ")\n",
    "\n",
    "model.summary()"
   ]
  },
  {
   "cell_type": "code",
   "execution_count": 12,
   "id": "painful-confidentiality",
   "metadata": {
    "execution": {
     "iopub.execute_input": "2021-05-14T09:47:29.371524Z",
     "iopub.status.busy": "2021-05-14T09:47:29.370704Z",
     "iopub.status.idle": "2021-05-14T09:47:40.803304Z",
     "shell.execute_reply": "2021-05-14T09:47:40.803855Z"
    },
    "papermill": {
     "duration": 11.452657,
     "end_time": "2021-05-14T09:47:40.804050",
     "exception": false,
     "start_time": "2021-05-14T09:47:29.351393",
     "status": "completed"
    },
    "tags": []
   },
   "outputs": [
    {
     "name": "stdout",
     "output_type": "stream",
     "text": [
      "16/16 [==============================] - 0s 3ms/step - loss: 2.1737 - accuracy: 0.3440\n",
      "Epoch # 5. Train Loss: 2.19. Train Acc (Test Acc): 0.23 (0.34)\n",
      "16/16 [==============================] - 0s 2ms/step - loss: 1.9759 - accuracy: 0.5800\n",
      "Epoch # 10. Train Loss: 2.01. Train Acc (Test Acc): 0.60 (0.58)\n",
      "16/16 [==============================] - 0s 2ms/step - loss: 1.6057 - accuracy: 0.7300\n",
      "Epoch # 15. Train Loss: 1.71. Train Acc (Test Acc): 0.74 (0.73)\n",
      "16/16 [==============================] - 0s 2ms/step - loss: 1.2110 - accuracy: 0.7740\n",
      "Epoch # 20. Train Loss: 1.32. Train Acc (Test Acc): 0.73 (0.77)\n",
      "16/16 [==============================] - 0s 4ms/step - loss: 0.8708 - accuracy: 0.7980\n",
      "Epoch # 25. Train Loss: 0.93. Train Acc (Test Acc): 0.76 (0.80)\n",
      "16/16 [==============================] - 0s 3ms/step - loss: 0.6734 - accuracy: 0.7880\n",
      "Epoch # 30. Train Loss: 0.82. Train Acc (Test Acc): 0.76 (0.79)\n",
      "16/16 [==============================] - 0s 2ms/step - loss: 0.5094 - accuracy: 0.8480\n",
      "Epoch # 35. Train Loss: 0.60. Train Acc (Test Acc): 0.76 (0.85)\n",
      "16/16 [==============================] - 0s 3ms/step - loss: 0.5499 - accuracy: 0.8120\n",
      "Epoch # 40. Train Loss: 0.40. Train Acc (Test Acc): 0.92 (0.81)\n",
      "16/16 [==============================] - 0s 2ms/step - loss: 0.4900 - accuracy: 0.8520\n",
      "Epoch # 45. Train Loss: 0.50. Train Acc (Test Acc): 0.81 (0.85)\n",
      "16/16 [==============================] - 0s 2ms/step - loss: 0.3852 - accuracy: 0.8740\n",
      "Epoch # 50. Train Loss: 0.49. Train Acc (Test Acc): 0.82 (0.87)\n",
      "16/16 [==============================] - 0s 2ms/step - loss: 0.3620 - accuracy: 0.8880\n",
      "Epoch # 55. Train Loss: 0.35. Train Acc (Test Acc): 0.87 (0.89)\n",
      "16/16 [==============================] - 0s 2ms/step - loss: 0.3570 - accuracy: 0.8760\n",
      "Epoch # 60. Train Loss: 0.37. Train Acc (Test Acc): 0.86 (0.88)\n",
      "16/16 [==============================] - 0s 2ms/step - loss: 0.3760 - accuracy: 0.8880\n",
      "Epoch # 65. Train Loss: 0.38. Train Acc (Test Acc): 0.90 (0.89)\n",
      "16/16 [==============================] - 0s 2ms/step - loss: 0.4148 - accuracy: 0.8980\n",
      "Epoch # 70. Train Loss: 0.49. Train Acc (Test Acc): 0.88 (0.90)\n",
      "16/16 [==============================] - 0s 2ms/step - loss: 0.3311 - accuracy: 0.9180\n",
      "Epoch # 75. Train Loss: 0.39. Train Acc (Test Acc): 0.87 (0.92)\n",
      "16/16 [==============================] - 0s 2ms/step - loss: 0.2846 - accuracy: 0.9060\n",
      "Epoch # 80. Train Loss: 0.45. Train Acc (Test Acc): 0.87 (0.91)\n",
      "16/16 [==============================] - 0s 2ms/step - loss: 0.3537 - accuracy: 0.9000\n",
      "Epoch # 85. Train Loss: 0.30. Train Acc (Test Acc): 0.94 (0.90)\n",
      "16/16 [==============================] - 0s 2ms/step - loss: 0.2844 - accuracy: 0.9240\n",
      "Epoch # 90. Train Loss: 0.41. Train Acc (Test Acc): 0.86 (0.92)\n",
      "16/16 [==============================] - 0s 2ms/step - loss: 0.2715 - accuracy: 0.9280\n",
      "Epoch # 95. Train Loss: 0.28. Train Acc (Test Acc): 0.92 (0.93)\n",
      "16/16 [==============================] - 0s 2ms/step - loss: 0.2842 - accuracy: 0.9200\n",
      "Epoch # 100. Train Loss: 0.20. Train Acc (Test Acc): 0.94 (0.92)\n",
      "16/16 [==============================] - 0s 2ms/step - loss: 0.2807 - accuracy: 0.9140\n",
      "Epoch # 105. Train Loss: 0.16. Train Acc (Test Acc): 0.94 (0.91)\n",
      "16/16 [==============================] - 0s 2ms/step - loss: 0.2561 - accuracy: 0.9140\n",
      "Epoch # 110. Train Loss: 0.30. Train Acc (Test Acc): 0.93 (0.91)\n",
      "16/16 [==============================] - 0s 2ms/step - loss: 0.1976 - accuracy: 0.9380\n",
      "Epoch # 115. Train Loss: 0.21. Train Acc (Test Acc): 0.92 (0.94)\n",
      "16/16 [==============================] - 0s 2ms/step - loss: 0.2853 - accuracy: 0.9200\n",
      "Epoch # 120. Train Loss: 0.44. Train Acc (Test Acc): 0.87 (0.92)\n",
      "16/16 [==============================] - 0s 2ms/step - loss: 0.2664 - accuracy: 0.9220\n",
      "Epoch # 125. Train Loss: 0.16. Train Acc (Test Acc): 0.96 (0.92)\n",
      "16/16 [==============================] - 0s 2ms/step - loss: 0.1774 - accuracy: 0.9360\n",
      "Epoch # 130. Train Loss: 0.28. Train Acc (Test Acc): 0.91 (0.94)\n",
      "16/16 [==============================] - 0s 2ms/step - loss: 0.2557 - accuracy: 0.9200\n",
      "Epoch # 135. Train Loss: 0.14. Train Acc (Test Acc): 0.96 (0.92)\n",
      "16/16 [==============================] - 0s 2ms/step - loss: 0.2306 - accuracy: 0.9360\n",
      "Epoch # 140. Train Loss: 0.20. Train Acc (Test Acc): 0.94 (0.94)\n",
      "16/16 [==============================] - 0s 2ms/step - loss: 0.2044 - accuracy: 0.9360\n",
      "Epoch # 145. Train Loss: 0.31. Train Acc (Test Acc): 0.93 (0.94)\n",
      "16/16 [==============================] - 0s 2ms/step - loss: 0.2767 - accuracy: 0.9140\n",
      "Epoch # 150. Train Loss: 0.28. Train Acc (Test Acc): 0.91 (0.91)\n",
      "16/16 [==============================] - 0s 2ms/step - loss: 0.2212 - accuracy: 0.9300\n",
      "Epoch # 155. Train Loss: 0.32. Train Acc (Test Acc): 0.88 (0.93)\n",
      "16/16 [==============================] - 0s 2ms/step - loss: 0.1589 - accuracy: 0.9520\n",
      "Epoch # 160. Train Loss: 0.18. Train Acc (Test Acc): 0.92 (0.95)\n",
      "16/16 [==============================] - 0s 2ms/step - loss: 0.2078 - accuracy: 0.9560\n",
      "Epoch # 165. Train Loss: 0.16. Train Acc (Test Acc): 0.96 (0.96)\n",
      "16/16 [==============================] - 0s 2ms/step - loss: 0.1819 - accuracy: 0.9440\n",
      "Epoch # 170. Train Loss: 0.25. Train Acc (Test Acc): 0.89 (0.94)\n",
      "16/16 [==============================] - 0s 2ms/step - loss: 0.2028 - accuracy: 0.9460\n",
      "Epoch # 175. Train Loss: 0.28. Train Acc (Test Acc): 0.92 (0.95)\n",
      "16/16 [==============================] - 0s 2ms/step - loss: 0.1784 - accuracy: 0.9560\n",
      "Epoch # 180. Train Loss: 0.24. Train Acc (Test Acc): 0.95 (0.96)\n",
      "16/16 [==============================] - 0s 2ms/step - loss: 0.1499 - accuracy: 0.9620\n",
      "Epoch # 185. Train Loss: 0.18. Train Acc (Test Acc): 0.95 (0.96)\n",
      "16/16 [==============================] - 0s 2ms/step - loss: 0.1948 - accuracy: 0.9400\n",
      "Epoch # 190. Train Loss: 0.28. Train Acc (Test Acc): 0.91 (0.94)\n",
      "16/16 [==============================] - 0s 2ms/step - loss: 0.1645 - accuracy: 0.9600\n",
      "Epoch # 195. Train Loss: 0.19. Train Acc (Test Acc): 0.95 (0.96)\n",
      "16/16 [==============================] - 0s 2ms/step - loss: 0.1949 - accuracy: 0.9380\n",
      "Epoch # 200. Train Loss: 0.23. Train Acc (Test Acc): 0.93 (0.94)\n",
      "16/16 [==============================] - 0s 2ms/step - loss: 0.2416 - accuracy: 0.9160\n",
      "Epoch # 205. Train Loss: 0.24. Train Acc (Test Acc): 0.93 (0.92)\n",
      "16/16 [==============================] - 0s 2ms/step - loss: 0.1769 - accuracy: 0.9620\n",
      "Epoch # 210. Train Loss: 0.09. Train Acc (Test Acc): 0.97 (0.96)\n",
      "16/16 [==============================] - 0s 2ms/step - loss: 0.1679 - accuracy: 0.9520\n",
      "Epoch # 215. Train Loss: 0.39. Train Acc (Test Acc): 0.90 (0.95)\n",
      "16/16 [==============================] - 0s 2ms/step - loss: 0.1423 - accuracy: 0.9520\n",
      "Epoch # 220. Train Loss: 0.11. Train Acc (Test Acc): 0.97 (0.95)\n",
      "16/16 [==============================] - 0s 2ms/step - loss: 0.1777 - accuracy: 0.9460\n",
      "Epoch # 225. Train Loss: 0.14. Train Acc (Test Acc): 0.95 (0.95)\n",
      "16/16 [==============================] - 0s 2ms/step - loss: 0.1454 - accuracy: 0.9500\n",
      "Epoch # 230. Train Loss: 0.17. Train Acc (Test Acc): 0.93 (0.95)\n",
      "16/16 [==============================] - 0s 2ms/step - loss: 0.1873 - accuracy: 0.9480\n",
      "Epoch # 235. Train Loss: 0.23. Train Acc (Test Acc): 0.94 (0.95)\n",
      "16/16 [==============================] - 0s 2ms/step - loss: 0.1600 - accuracy: 0.9480\n",
      "Epoch # 240. Train Loss: 0.18. Train Acc (Test Acc): 0.96 (0.95)\n",
      "16/16 [==============================] - 0s 2ms/step - loss: 0.1422 - accuracy: 0.9560\n",
      "Epoch # 245. Train Loss: 0.14. Train Acc (Test Acc): 0.95 (0.96)\n",
      "16/16 [==============================] - 0s 2ms/step - loss: 0.1970 - accuracy: 0.9380\n",
      "Epoch # 250. Train Loss: 0.30. Train Acc (Test Acc): 0.92 (0.94)\n",
      "16/16 [==============================] - 0s 2ms/step - loss: 0.2012 - accuracy: 0.9380\n",
      "Epoch # 255. Train Loss: 0.08. Train Acc (Test Acc): 0.98 (0.94)\n",
      "16/16 [==============================] - 0s 2ms/step - loss: 0.1566 - accuracy: 0.9500\n",
      "Epoch # 260. Train Loss: 0.12. Train Acc (Test Acc): 0.96 (0.95)\n",
      "16/16 [==============================] - 0s 2ms/step - loss: 0.1466 - accuracy: 0.9500\n",
      "Epoch # 265. Train Loss: 0.22. Train Acc (Test Acc): 0.91 (0.95)\n",
      "16/16 [==============================] - 0s 2ms/step - loss: 0.1519 - accuracy: 0.9600\n",
      "Epoch # 270. Train Loss: 0.21. Train Acc (Test Acc): 0.93 (0.96)\n",
      "16/16 [==============================] - 0s 2ms/step - loss: 0.1697 - accuracy: 0.9460\n",
      "Epoch # 275. Train Loss: 0.25. Train Acc (Test Acc): 0.90 (0.95)\n",
      "16/16 [==============================] - 0s 2ms/step - loss: 0.1447 - accuracy: 0.9680\n",
      "Epoch # 280. Train Loss: 0.14. Train Acc (Test Acc): 0.97 (0.97)\n",
      "16/16 [==============================] - 0s 2ms/step - loss: 0.1342 - accuracy: 0.9540\n",
      "Epoch # 285. Train Loss: 0.14. Train Acc (Test Acc): 0.98 (0.95)\n",
      "16/16 [==============================] - 0s 2ms/step - loss: 0.1816 - accuracy: 0.9420\n",
      "Epoch # 290. Train Loss: 0.17. Train Acc (Test Acc): 0.95 (0.94)\n",
      "16/16 [==============================] - 0s 2ms/step - loss: 0.1471 - accuracy: 0.9560\n",
      "Epoch # 295. Train Loss: 0.12. Train Acc (Test Acc): 0.96 (0.96)\n",
      "16/16 [==============================] - 0s 2ms/step - loss: 0.1310 - accuracy: 0.9680\n",
      "Epoch # 300. Train Loss: 0.11. Train Acc (Test Acc): 0.97 (0.97)\n"
     ]
    }
   ],
   "source": [
    "train_loss = []\n",
    "train_acc = []\n",
    "test_acc = []\n",
    "\n",
    "for i in range(epochs):\n",
    "    rand_idx = np.random.choice(len(x_train), size=batch_size)\n",
    "    rand_x = x_train[rand_idx]\n",
    "    rand_y = y_train[rand_idx]\n",
    "    \n",
    "    history_train = model.train_on_batch(rand_x, rand_y)\n",
    "    \n",
    "    if((i+1)%eval_every == 0):\n",
    "        eval_index = np.random.choice(len(x_test), size=eval_size)\n",
    "        eval_x = x_test[eval_index]\n",
    "        eval_y = y_test[eval_index]\n",
    "        \n",
    "        history_eval = model.evaluate(eval_x, eval_y)\n",
    "        \n",
    "        train_loss.append(history_train[0])\n",
    "        train_acc.append(history_train[1])\n",
    "        \n",
    "        test_acc.append(history_eval[1])\n",
    "        \n",
    "        acc_and_loss = [(i+1), history_train[0], history_train[1], history_eval[1]]\n",
    "        acc_and_loss = [np.round(x,2) for x in acc_and_loss]\n",
    "        print('Epoch # {}. Train Loss: {:.2f}. Train Acc (Test Acc): {:.2f} ({:.2f})'.format(*acc_and_loss))"
   ]
  },
  {
   "cell_type": "code",
   "execution_count": 13,
   "id": "about-doctrine",
   "metadata": {
    "execution": {
     "iopub.execute_input": "2021-05-14T09:47:40.936777Z",
     "iopub.status.busy": "2021-05-14T09:47:40.935931Z",
     "iopub.status.idle": "2021-05-14T09:47:41.103998Z",
     "shell.execute_reply": "2021-05-14T09:47:41.104451Z"
    },
    "papermill": {
     "duration": 0.242027,
     "end_time": "2021-05-14T09:47:41.104629",
     "exception": false,
     "start_time": "2021-05-14T09:47:40.862602",
     "status": "completed"
    },
    "tags": []
   },
   "outputs": [
    {
     "name": "stdout",
     "output_type": "stream",
     "text": [
      "range(0, 300, 5)\n"
     ]
    },
    {
     "data": {
      "image/png": "[encoded data removed]",
      "text/plain": [
       "<Figure size 432x288 with 1 Axes>"
      ]
     },
     "metadata": {
      "needs_background": "light"
     },
     "output_type": "display_data"
    }
   ],
   "source": [
    "eval_indices = range(0, epochs, eval_every)\n",
    "print(eval_indices)\n",
    "plt.plot(eval_indices, train_acc, 'k-', label='train_loss')\n",
    "plt.plot(eval_indices, test_acc, 'r--', label='test_loss')\n",
    "plt.legend()\n",
    "plt.show()"
   ]
  },
  {
   "cell_type": "code",
   "execution_count": 14,
   "id": "abstract-pastor",
   "metadata": {
    "execution": {
     "iopub.execute_input": "2021-05-14T09:47:41.230565Z",
     "iopub.status.busy": "2021-05-14T09:47:41.229746Z",
     "iopub.status.idle": "2021-05-14T09:47:41.606493Z",
     "shell.execute_reply": "2021-05-14T09:47:41.605703Z"
    },
    "papermill": {
     "duration": 0.442151,
     "end_time": "2021-05-14T09:47:41.606618",
     "exception": false,
     "start_time": "2021-05-14T09:47:41.164467",
     "status": "completed"
    },
    "tags": []
   },
   "outputs": [
    {
     "data": {
      "image/png": "[encoded data removed]",
      "text/plain": [
       "<Figure size 432x288 with 6 Axes>"
      ]
     },
     "metadata": {
      "needs_background": "light"
     },
     "output_type": "display_data"
    }
   ],
   "source": [
    "y = y_test[120:126]\n",
    "y_pred= model.predict(x_test[120:126])\n",
    "\n",
    "predictions = np.argmax(y_pred, axis=1)\n",
    "\n",
    "images = np.squeeze(x_test[120:126])\n",
    "\n",
    "rows = 3\n",
    "cols = 2\n",
    "\n",
    "for i in range(6):\n",
    "    plt.subplot(rows, cols, i+1)\n",
    "    plt.imshow(np.reshape(images[i], [32,32]))\n",
    "    plt.title('Actual: '+str(y[i])+' Pred: '+str(predictions[i]))\n",
    "    \n",
    "    frame = plt.gca()\n",
    "    frame.axes.get_xaxis().set_visible(False)\n",
    "    frame.axes.get_yaxis().set_visible(False)\n",
    "\n",
    "plt.show()"
   ]
  },
  {
   "cell_type": "code",
   "execution_count": null,
   "id": "aging-daniel",
   "metadata": {
    "papermill": {
     "duration": 0.060561,
     "end_time": "2021-05-14T09:47:41.728791",
     "exception": false,
     "start_time": "2021-05-14T09:47:41.668230",
     "status": "completed"
    },
    "tags": []
   },
   "outputs": [],
   "source": []
  }
 ],
 "metadata": {
  "kernelspec": {
   "display_name": "Python 3",
   "language": "python",
   "name": "python3"
  },
  "language_info": {
   "codemirror_mode": {
    "name": "ipython",
    "version": 3
   },
   "file_extension": ".py",
   "mimetype": "text/x-python",
   "name": "python",
   "nbconvert_exporter": "python",
   "pygments_lexer": "ipython3",
   "version": "3.7.10"
  },
  "papermill": {
   "default_parameters": {},
   "duration": 30.630851,
   "end_time": "2021-05-14T09:47:44.505157",
   "environment_variables": {},
   "exception": null,
   "input_path": "__notebook__.ipynb",
   "output_path": "__notebook__.ipynb",
   "parameters": {},
   "start_time": "2021-05-14T09:47:13.874306",
   "version": "2.3.3"
  }
 },
 "nbformat": 4,
 "nbformat_minor": 5
}
